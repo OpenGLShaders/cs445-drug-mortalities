{
 "cells": [
  {
   "cell_type": "markdown",
   "metadata": {},
   "source": [
    "# Term Project\n",
    "\n",
    "\n",
    "### *Matt Danielson, Samuel Kaessner*\n",
    "\n",
    "\n",
    "## Intro\n",
    "\n",
    "For our project we worked on a dataset from the UCI machine learning repository to classify photos of faces. The photos were of different people with a number of variations in their poses including whether they wore sunglasses or not, the direction they were looking, and the emotion they were displaying. We decided to use a neural network to classify the images, with each pixel representing a weight into the hidden layer of the neural net. We shuffled the images and used 80% of them as training data, and withheld 20% to be used for test data.\n",
    "\n",
    "The images were in PGM format, so the first thing we did was write a function to read the pixel data into an array where each array element was the grayscale value of that pixel."
   ]
  },
  {
   "cell_type": "code",
   "execution_count": 1,
   "metadata": {},
   "outputs": [],
   "source": [
    "import sys\n",
    "import os\n",
    "import re\n",
    "import numpy as np\n",
    "import neuralnetworksA4 as nn\n",
    "import mlutilities as ml\n",
    "import matplotlib.pyplot as plt\n",
    "%matplotlib inline"
   ]
  },
  {
   "cell_type": "code",
   "execution_count": 168,
   "metadata": {},
   "outputs": [],
   "source": [
    "''' Baseline code by cgohlke on StackOverflow, from this answer:\n",
    "    https://stackoverflow.com/a/7369986\n",
    "    Modified somewhat. \n",
    "'''\n",
    "def read_pgm(filename, byteorder='>'):\n",
    "    \"\"\"Return image data from a raw PGM file as numpy array.\n",
    "\n",
    "    Format specification: http://netpbm.sourceforge.net/doc/pgm.html\n",
    "\n",
    "    \"\"\"\n",
    "\n",
    "    with open(filename, 'rb') as f:\n",
    "        buffer = f.read()\n",
    "    try:\n",
    "        header, width, height, maxval = re.search(\n",
    "            b\"(^P5[\\s\\r\\n]*\"\n",
    "            b\"(\\d+)[\\s\\r\\n]*\"\n",
    "            b\"(\\d+)[\\s\\r\\n]*\"\n",
    "            b\"(\\d+)[\\s\\r\\n])\", buffer).groups()\n",
    "    except AttributeError:\n",
    "        raise ValueError(\"Not a raw PGM file: '%s'\" % filename)\n",
    "    return np.frombuffer(buffer,\n",
    "                            dtype='u1' if int(maxval) < 256 else byteorder+'u2',\n",
    "                            count=int(width)*int(height),\n",
    "                            offset=len(header)\n",
    "                            )"
   ]
  },
  {
   "cell_type": "markdown",
   "metadata": {},
   "source": [
    "Next we decided to write some code that will walk through the directory of image files and read each file into an array which we will use with numpy called X\n",
    "We also needed to establish some target values so for each value we created an array of target values called info. The first entry of info is a boolean 0 or 1, where 1 means the subject is wearing sunglasses.\n",
    "\n",
    "The next entry of info is a number 0-3 to denote the direction the subject is looking, either left, right, straight, or up.\n",
    "\n",
    "The final entry of info is an integer 0-3 that denotes the subject’s emotion, angry, happy, neutral, or sad.\n"
   ]
  },
  {
   "cell_type": "code",
   "execution_count": 157,
   "metadata": {},
   "outputs": [],
   "source": [
    "''' \n",
    "Loads in PGM Data, by digging through the given directory. Num specifies which\n",
    "attribute of the image to use as the target. This is given by:\n",
    "1 - Direction\n",
    "2 - Expression\n",
    "3 - Sunglasses\n",
    "Anything else - All 3 attributes\n",
    "'''\n",
    "def loadPGMData(rootDir, num, level):\n",
    "    values = []\n",
    "    targets = []\n",
    "    for dirName, subdirList, fileList in os.walk(rootDir):\n",
    "        for fname in fileList:\n",
    "            ending = str(level) + \".pgm\"\n",
    "                \n",
    "            if(fname.endswith(ending)):\n",
    "                values.append(read_pgm(os.path.join(dirName, fname)))\n",
    "                \n",
    "                if num is 1: # Direction\n",
    "                    splits = fname.split(\"_\")\n",
    "                    fname = splits[1]\n",
    "                elif num is 2: # Expression\n",
    "                    splits = fname.split(\"_\")\n",
    "                    fname = splits[2]\n",
    "                elif num is 3: # Sunglasses\n",
    "                    splits = fname.split(\"_\")\n",
    "                    fname = splits[3]\n",
    "                else:\n",
    "                    fname = fname[fname.find(\"_\") + 1:-4]\n",
    "                targets.append(fname)\n",
    "            \n",
    "            \n",
    "    X = np.asarray(values)\n",
    "    T = np.asarray(targets).reshape((-1, 1))\n",
    "    return ml.partition(X, T, 0.8, shuffle=True, classification=True)\n",
    "        "
   ]
  },
  {
   "cell_type": "markdown",
   "metadata": {},
   "source": [
    "An example of one of the images that we analyzed is here:"
   ]
  },
  {
   "cell_type": "code",
   "execution_count": 151,
   "metadata": {},
   "outputs": [
    {
     "data": {
      "text/plain": [
       "<matplotlib.image.AxesImage at 0x10f68ac18>"
      ]
     },
     "execution_count": 151,
     "metadata": {},
     "output_type": "execute_result"
    },
    {
     "data": {
      "image/png": "[encoded data removed]",
      "text/plain": [
       "<matplotlib.figure.Figure at 0x10ea15908>"
      ]
     },
     "metadata": {},
     "output_type": "display_data"
    }
   ],
   "source": [
    "plt.imshow(read_pgm(\"faces/an2i/an2i_left_neutral_open_2.pgm\").reshape((60, 64)),interpolation='nearest',cmap='gray')\n"
   ]
  },
  {
   "cell_type": "markdown",
   "metadata": {},
   "source": [
    "Our predictions for the data was follows:\n",
    "\n",
    "We predict that whether or not the subject is wearing sunglasses will be the easiest category to predict. This is because the sunglasses provide a great amount of contrast in the middle of the image, between the brighter colors of the face and the dark of the sunglasses, so we expect the pixels in the middle of the image will be weighted the most heavily as inputs to the neural net. Other pixels may not have much weight at all, as for each picture there is a dark background around the top and side edges of the image.\n",
    "\n",
    "We expect that classifying the direction the subject is looking will be more difficult, as it will rely on a smaller set of pixels around the edge of the face to see, for example, which way their nose is pointing.\n",
    "\n",
    "We think that the facial expression will be most difficult of all because it will rely on a very small set of pixels around the corners of the mouth.\n",
    "\n",
    "The images also come in three resolutions. We expect that especially for the direction of the head and emotion, the higher resolution will be easier to classify. However, we predict that the sunglasses will actually go down with higher resolution because there will be more hidden values trying to determine the middle of the face instead of only a few heavy, dark pixels where the sunglasses are.\n",
    "\n",
    "\n"
   ]
  },
  {
   "cell_type": "code",
   "execution_count": 152,
   "metadata": {},
   "outputs": [
    {
     "name": "stdout",
     "output_type": "stream",
     "text": [
      "1.01812292922e-17\n"
     ]
    },
    {
     "data": {
      "text/plain": [
       "[<matplotlib.lines.Line2D at 0x10e71b0b8>]"
      ]
     },
     "execution_count": 152,
     "metadata": {},
     "output_type": "execute_result"
    },
    {
     "data": {
      "image/png": "[encoded data removed]",
      "text/plain": [
       "<matplotlib.figure.Figure at 0x10fd21710>"
      ]
     },
     "metadata": {},
     "output_type": "display_data"
    }
   ],
   "source": [
    "XTrain, TTrain, XTest, TTest = loadPGMData('faces', 1, 4)\n",
    "neuralNet = nn.NeuralNetworkClassifier(XTrain.shape[1], [50, 50, 50], np.unique(np.squeeze(TTrain)).shape[0])\n",
    "neuralNet.train(XTrain, TTrain, nIterations=1000, verbose=True)\n",
    "plt.plot(neuralNet.getErrors())"
   ]
  },
  {
   "cell_type": "markdown",
   "metadata": {},
   "source": [
    "We define a percent correct function to see how well our networks do. "
   ]
  },
  {
   "cell_type": "code",
   "execution_count": 136,
   "metadata": {},
   "outputs": [],
   "source": [
    "def percentCorrect(A, B):\n",
    "    return np.sum(A == B) / len(B) * 100"
   ]
  },
  {
   "cell_type": "code",
   "execution_count": 153,
   "metadata": {},
   "outputs": [
    {
     "name": "stdout",
     "output_type": "stream",
     "text": [
      "\n",
      "Training data: Percent Correct  100.00\n",
      "\n",
      "Testing data: Percent Correct  96.77\n"
     ]
    }
   ],
   "source": [
    "\n",
    "PTrain = neuralNet.use(XTrain)\n",
    "PTest = neuralNet.use(XTest)\n",
    "\n",
    "print('\\nTraining data: Percent Correct  {:.2f}'.format(percentCorrect(TTrain, PTrain)))\n",
    "print('\\nTesting data: Percent Correct  {:.2f}'.format(percentCorrect(TTest, PTest)))\n"
   ]
  },
  {
   "cell_type": "markdown",
   "metadata": {},
   "source": [
    "We can see that the neural net predicted sunglasses very well!\n",
    "\n",
    "Let's repeat this for each of the other attributes."
   ]
  },
  {
   "cell_type": "code",
   "execution_count": 154,
   "metadata": {},
   "outputs": [
    {
     "name": "stdout",
     "output_type": "stream",
     "text": [
      "SCG: Iteration 100 fValue Eval 0.00571548736958 Scale 1e-15\n",
      "SCG: Iteration 200 fValue Eval 6.94341482661e-06 Scale 1e-15\n",
      "SCG: Iteration 300 fValue Eval 2.5067837132e-10 Scale 1e-15\n",
      "1.69785958573e-16\n",
      "\n",
      "Training data: Percent Correct  100.00\n",
      "\n",
      "Testing data: Percent Correct  15.20\n"
     ]
    },
    {
     "data": {
      "image/png": "[encoded data removed]",
      "text/plain": [
       "<matplotlib.figure.Figure at 0x10f6730f0>"
      ]
     },
     "metadata": {},
     "output_type": "display_data"
    }
   ],
   "source": [
    "XTrain, TTrain, XTest, TTest = loadPGMData('faces', 2, 4)\n",
    "neuralNet = nn.NeuralNetworkClassifier(XTrain.shape[1], [50, 50, 50], np.unique(np.squeeze(TTrain)).shape[0])\n",
    "neuralNet.train(XTrain, TTrain, nIterations=1000, verbose=True)\n",
    "plt.plot(neuralNet.getErrors())\n",
    "\n",
    "PTrain = neuralNet.use(XTrain)\n",
    "PTest = neuralNet.use(XTest)\n",
    "\n",
    "print('\\nTraining data: Percent Correct  {:.2f}'.format(percentCorrect(TTrain, PTrain)))\n",
    "print('\\nTesting data: Percent Correct  {:.2f}'.format(percentCorrect(TTest, PTest)))"
   ]
  },
  {
   "cell_type": "code",
   "execution_count": 139,
   "metadata": {},
   "outputs": [
    {
     "name": "stdout",
     "output_type": "stream",
     "text": [
      "7.40069271851e-17\n",
      "\n",
      "Training data: Percent Correct  100.00\n",
      "\n",
      "Testing data: Percent Correct  97.60\n"
     ]
    },
    {
     "data": {
      "image/png": "[encoded data removed]",
      "text/plain": [
       "<matplotlib.figure.Figure at 0x1103c8a90>"
      ]
     },
     "metadata": {},
     "output_type": "display_data"
    }
   ],
   "source": [
    "XTrain, TTrain, XTest, TTest = loadPGMData('faces', 3, 4)\n",
    "neuralNet = nn.NeuralNetworkClassifier(XTrain.shape[1], [50, 50, 50], np.unique(np.squeeze(TTrain)).shape[0])\n",
    "neuralNet.train(XTrain, TTrain, nIterations=1000, verbose=True)\n",
    "plt.plot(neuralNet.getErrors())\n",
    "\n",
    "PTrain = neuralNet.use(XTrain)\n",
    "PTest = neuralNet.use(XTest)\n",
    "\n",
    "print('\\nTraining data: Percent Correct  {:.2f}'.format(percentCorrect(TTrain, PTrain)))\n",
    "print('\\nTesting data: Percent Correct  {:.2f}'.format(percentCorrect(TTest, PTest)))"
   ]
  },
  {
   "cell_type": "code",
   "execution_count": 140,
   "metadata": {},
   "outputs": [],
   "source": [
    "def testResolution(targetVariable, level):\n",
    "    XTrain, TTrain, XTest, TTest = loadPGMData('faces', targetVariable, level)\n",
    "    neuralNet = nn.NeuralNetworkClassifier(XTrain.shape[1], [50, 50, 50], np.unique(np.squeeze(TTrain)).shape[0])\n",
    "    neuralNet.train(XTrain, TTrain, nIterations=1000, verbose=True)\n",
    "    plt.plot(neuralNet.getErrors())\n",
    "\n",
    "    PTrain = neuralNet.use(XTrain)\n",
    "    PTest = neuralNet.use(XTest)\n",
    "\n",
    "    print('\\nTraining data: Percent Correct  {:.2f}'.format(percentCorrect(TTrain, PTrain)))\n",
    "    print('\\nTesting data: Percent Correct  {:.2f}'.format(percentCorrect(TTest, PTest)))"
   ]
  },
  {
   "cell_type": "code",
   "execution_count": 145,
   "metadata": {},
   "outputs": [
    {
     "name": "stdout",
     "output_type": "stream",
     "text": [
      "1.9383521988e-16\n",
      "\n",
      "Training data: Percent Correct  100.00\n",
      "\n",
      "Testing data: Percent Correct  95.16\n"
     ]
    },
    {
     "data": {
      "image/png": "[encoded data removed]",
      "text/plain": [
       "<matplotlib.figure.Figure at 0x10e714160>"
      ]
     },
     "metadata": {},
     "output_type": "display_data"
    }
   ],
   "source": [
    "testResolution(1, 2)"
   ]
  },
  {
   "cell_type": "code",
   "execution_count": 143,
   "metadata": {},
   "outputs": [
    {
     "name": "stdout",
     "output_type": "stream",
     "text": [
      "SCG: Iteration 100 fValue Eval 0.0109374319124 Scale 1e-15\n",
      "SCG: Iteration 200 fValue Eval 0.000405702182886 Scale 1e-15\n",
      "SCG: Iteration 300 fValue Eval 4.46225153918e-05 Scale 1e-15\n",
      "SCG: Iteration 400 fValue Eval 1.98821240047e-06 Scale 1e-15\n",
      "SCG: Iteration 500 fValue Eval 7.14809755706e-08 Scale 1e-15\n",
      "SCG: Iteration 600 fValue Eval 1.99051218427e-09 Scale 1e-15\n",
      "1.8701292396e-16\n",
      "\n",
      "Training data: Percent Correct  100.00\n",
      "\n",
      "Testing data: Percent Correct  9.60\n"
     ]
    },
    {
     "data": {
      "image/png": "[encoded data removed]",
      "text/plain": [
       "<matplotlib.figure.Figure at 0x108fe8a20>"
      ]
     },
     "metadata": {},
     "output_type": "display_data"
    }
   ],
   "source": [
    "testResolution(2, 2)"
   ]
  },
  {
   "cell_type": "code",
   "execution_count": 144,
   "metadata": {},
   "outputs": [
    {
     "name": "stdout",
     "output_type": "stream",
     "text": [
      "1.41925930934e-16\n",
      "\n",
      "Training data: Percent Correct  100.00\n",
      "\n",
      "Testing data: Percent Correct  96.00\n"
     ]
    },
    {
     "data": {
      "image/png": "[encoded data removed]",
      "text/plain": [
       "<matplotlib.figure.Figure at 0x110108a90>"
      ]
     },
     "metadata": {},
     "output_type": "display_data"
    }
   ],
   "source": [
    "testResolution(3, 2)"
   ]
  },
  {
   "cell_type": "markdown",
   "metadata": {},
   "source": [
    "## Conclusion\n",
    "Using our neural network approach, we were able to classify image data of faces with a varying degree of accuracy based on what the attribute was. Big, obvious differences like wearing sunglasses were easier to classify than subtler features like emotion. Some applications for this type of machine learning could be facial recognition software, security cameras, or programs that can describe the world to someone who is visually impaired.\n"
   ]
  },
  {
   "cell_type": "code",
   "execution_count": null,
   "metadata": {},
   "outputs": [],
   "source": []
  }
 ],
 "metadata": {
  "kernelspec": {
   "display_name": "Python 3",
   "language": "python",
   "name": "python3"
  },
  "language_info": {
   "codemirror_mode": {
    "name": "ipython",
    "version": 3
   },
   "file_extension": ".py",
   "mimetype": "text/x-python",
   "name": "python",
   "nbconvert_exporter": "python",
   "pygments_lexer": "ipython3",
   "version": "3.6.3"
  }
 },
 "nbformat": 4,
 "nbformat_minor": 2
}
